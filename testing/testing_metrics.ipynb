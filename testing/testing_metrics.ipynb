{
 "cells": [
  {
   "cell_type": "code",
   "execution_count": 1,
   "id": "1c305d96-9af5-406d-9e35-c0b93ae7e2dc",
   "metadata": {
    "tags": []
   },
   "outputs": [],
   "source": [
    "import cv2\n",
    "import pytesseract\n",
    "import fastwer\n",
    "import os\n",
    "import numpy as np\n",
    "import pandas as pd\n",
    "import matplotlib.pyplot as plt\n",
    "from IPython.display import Image, display"
   ]
  },
  {
   "cell_type": "code",
   "execution_count": 156,
   "id": "b278caad-78aa-440d-808a-0473b0e0be92",
   "metadata": {
    "tags": []
   },
   "outputs": [],
   "source": [
    "# PREPROCESSING IMAGES \n",
    "\n",
    "import numpy as np\n",
    "import cv2\n",
    "\n",
    "def preprocess_image(img):\n",
    "    # Rescale the image, if needed.\n",
    "    img = np.array(img)\n",
    "    img = cv2.resize(img, None, fx=1.5, fy=1.5, interpolation=cv2.INTER_CUBIC)\n",
    "    # Convert to gray\n",
    "    img = cv2.cvtColor(img, cv2.COLOR_BGR2GRAY)\n",
    "\n",
    "    # Apply dilation and erosion to remove some noise\n",
    "    #kernel = np.ones((1, 1), np.uint8)\n",
    "    #img = cv2.dilate(img, kernel, iterations=1)\n",
    "    #img = cv2.erode(img, kernel, iterations=1)\n",
    "    # Apply blur to smooth out the edges\n",
    "    #img = cv2.GaussianBlur(img, (5, 5), 0)\n",
    "    # Apply threshold to get image with only b&w (binarization)\n",
    "    #img = cv2.threshold(img, 0, 255, cv2.THRESH_BINARY + cv2.THRESH_OTSU)[1]\n",
    "    return img"
   ]
  },
  {
   "cell_type": "code",
   "execution_count": 141,
   "id": "4fe8d63a-3b18-4ce8-a866-7842f79cfd0d",
   "metadata": {
    "tags": []
   },
   "outputs": [],
   "source": [
    "# TESSERACT MAIN \n",
    "\n",
    "# Tesseract\n",
    "\n",
    "# Convert document from pdf to image https://stackoverflow.com/questions/29657237/tesseract-ocr-pdf-as-input\n",
    "import cv2\n",
    "import pdf2image\n",
    "import numpy as np\n",
    "try:\n",
    "    from PIL import Image\n",
    "except ImportError:\n",
    "    import Image\n",
    "import pytesseract\n",
    "\n",
    "\n",
    "def pdf_to_img(pdf_file, FIRST_PAGE, LAST_PAGE):\n",
    "    return pdf2image.convert_from_path(pdf_file, first_page= FIRST_PAGE, last_page=LAST_PAGE)\n",
    "\n",
    "def ocr_core(file):\n",
    "    pytesseract.pytesseract.tesseract_cmd = 'C:/Program Files/Tesseract-OCR/tesseract.exe'\n",
    "    text = pytesseract.image_to_string(file, lang='spa')\n",
    "    return text\n",
    "\n",
    "\n",
    "def print_pages(pdf_file):\n",
    "    images = pdf_to_img(pdf_file, first_page = 20, last_page = 21)\n",
    "    for pg, img in enumerate(images):\n",
    "        img = preprocess_image(img)\n",
    "        #display(img)\n",
    "        text = ocr_core(img)\n",
    "        print('next')\n"
   ]
  },
  {
   "cell_type": "code",
   "execution_count": 142,
   "id": "2a211475-8d9a-42a9-beb3-50575d19d5c1",
   "metadata": {
    "tags": []
   },
   "outputs": [],
   "source": [
    "# book_path = 'C:/Users/Hp/OneDrive/Escritorio/libro_1.pdf'\n",
    "# print_pages(book_path)"
   ]
  },
  {
   "cell_type": "code",
   "execution_count": 143,
   "id": "ec8e4934-c38b-44b0-aec6-698ac5593ed9",
   "metadata": {
    "tags": []
   },
   "outputs": [],
   "source": [
    "# Show the sample images that we will work on (Need to create a folder to upload sample images in Colab environment)\n",
    "txt_testing = os.listdir('C:/Users/Hp/PycharmProjects/ImageToTextArgentina/data')\n",
    "txt_testing = sorted(txt_testing)\n",
    "txt_testing = [doc for doc in txt_testing if '.txt' in doc] "
   ]
  },
  {
   "cell_type": "code",
   "execution_count": 144,
   "id": "c73c2201-32c5-4c56-beaf-7a34ec70becf",
   "metadata": {
    "tags": []
   },
   "outputs": [],
   "source": [
    "pdf_list = os.listdir('C:/Users/Hp/PycharmProjects/ImageToTextArgentina/data')\n",
    "pdf_list = sorted(pdf_list)\n",
    "pdf_list = [doc for doc in pdf_list if '.pdf' in doc] "
   ]
  },
  {
   "cell_type": "code",
   "execution_count": 170,
   "id": "f315f6e3-5467-4860-9d08-a2fced62b8ec",
   "metadata": {
    "tags": []
   },
   "outputs": [],
   "source": [
    "pdf_list \n",
    "pdf_list = ['libro_1.pdf','libro_2.pdf', 'libro_3.pdf']"
   ]
  },
  {
   "cell_type": "code",
   "execution_count": 179,
   "id": "25df3549-d542-4e73-ad82-a5a21fa87f2f",
   "metadata": {
    "tags": []
   },
   "outputs": [],
   "source": [
    "pdf_dict = {\n",
    "'libro_1.pdf': {'first_page': 20, 'last_page': 21, 'sample': 'libro_1_sample.txt'},\n",
    "'libro_2.pdf': {'first_page': 1, 'last_page': 2, 'sample': 'libro_2_sample.txt'},\n",
    "'libro_3.pdf': {'first_page': 20, 'last_page': 21, 'sample': 'libro_3_sample.txt'}\n",
    "}"
   ]
  },
  {
   "cell_type": "code",
   "execution_count": 180,
   "id": "3497f3b4-a716-4980-b6ef-778b3dd5c85b",
   "metadata": {
    "tags": []
   },
   "outputs": [],
   "source": [
    "# Create empty dataframe to store output\n",
    "df_output = pd.DataFrame(columns = ['pdf_filename', 'sample_filename', 'txt_reference', 'ocr_output', 'cer', 'wer'])"
   ]
  },
  {
   "cell_type": "code",
   "execution_count": 181,
   "id": "1a94502a-b501-41f3-b4c9-023817f5dbab",
   "metadata": {
    "tags": []
   },
   "outputs": [],
   "source": [
    "df_output['pdf_filename'] = pdf_list"
   ]
  },
  {
   "cell_type": "code",
   "execution_count": 186,
   "id": "eaf82d6a-95c1-44e1-b644-7b1f5a2c0770",
   "metadata": {
    "tags": []
   },
   "outputs": [],
   "source": [
    "for num, pdf in enumerate(pdf_list):\n",
    "    first_page = pdf_dict[pdf]['first_page']\n",
    "    last_page = pdf_dict[pdf]['last_page']\n",
    "    images = pdf_to_img('C:/Users/Hp/PycharmProjects/ImageToTextArgentina/data/' + pdf, first_page, last_page)\n",
    "    with open('C:/Users/Hp/PycharmProjects/ImageToTextArgentina/data/' + pdf_dict[pdf]['sample'],  'r', encoding='utf-8') as f :\n",
    "        reference_text = f.read()\n",
    "    output_text = ''\n",
    "    for pg, img in enumerate(images):\n",
    "        #img = preprocess_image(img)\n",
    "        #display(img)\n",
    "        output_aux_text = ocr_core(img)\n",
    "        output_text += output_aux_text\n",
    "        #print(pdf)\n",
    "        #print(img)\n",
    "        #print(output_aux_text)\n",
    "    output_text = output_text.replace(\"\\n\", \"\")\n",
    "    output_text = output_text.replace(\"-\\n\", \"\")\n",
    "    reference_text = reference_text.replace(\"\\n\", \"\")\n",
    "    reference_text = reference_text.replace(\"-\\n\", \"\")\n",
    "    cer = fastwer.score_sent(output_text, reference_text, char_level=True)\n",
    "    wer = fastwer.score_sent(output_text, reference_text, char_level=False)\n",
    "    df_output.loc[df_output['pdf_filename'] == pdf, 'sample_filename'] = pdf_dict[pdf]['sample']\n",
    "    df_output.loc[df_output['pdf_filename'] == pdf, 'txt_reference'] = reference_text[0:200]\n",
    "    df_output.loc[df_output['pdf_filename'] == pdf, 'ocr_output'] = output_text[0:200]\n",
    "    df_output.loc[df_output['pdf_filename'] == pdf, 'cer'] = cer\n",
    "    df_output.loc[df_output['pdf_filename'] == pdf, 'wer'] = wer\n",
    "\n",
    "\n",
    "    \n",
    "    \n",
    "    "
   ]
  },
  {
   "cell_type": "code",
   "execution_count": 187,
   "id": "58601982-376b-4dfc-b49b-e325b9e90f67",
   "metadata": {
    "tags": []
   },
   "outputs": [
    {
     "data": {
      "text/html": [
       "<div>\n",
       "<style scoped>\n",
       "    .dataframe tbody tr th:only-of-type {\n",
       "        vertical-align: middle;\n",
       "    }\n",
       "\n",
       "    .dataframe tbody tr th {\n",
       "        vertical-align: top;\n",
       "    }\n",
       "\n",
       "    .dataframe thead th {\n",
       "        text-align: right;\n",
       "    }\n",
       "</style>\n",
       "<table border=\"1\" class=\"dataframe\">\n",
       "  <thead>\n",
       "    <tr style=\"text-align: right;\">\n",
       "      <th></th>\n",
       "      <th>pdf_filename</th>\n",
       "      <th>sample_filename</th>\n",
       "      <th>txt_reference</th>\n",
       "      <th>ocr_output</th>\n",
       "      <th>cer</th>\n",
       "      <th>wer</th>\n",
       "    </tr>\n",
       "  </thead>\n",
       "  <tbody>\n",
       "    <tr>\n",
       "      <th>0</th>\n",
       "      <td>libro_1.pdf</td>\n",
       "      <td>libro_1_sample.txt</td>\n",
       "      <td>do con la importancia de la obra. Al principio...</td>\n",
       "      <td>do con la importancia de la obra. Al principio...</td>\n",
       "      <td>3.1521</td>\n",
       "      <td>22.3529</td>\n",
       "    </tr>\n",
       "    <tr>\n",
       "      <th>1</th>\n",
       "      <td>libro_2.pdf</td>\n",
       "      <td>libro_2_sample.txt</td>\n",
       "      <td>a-Fe20 3, consiste en una formación hexagonal ...</td>\n",
       "      <td>FerritasaA—Fe,O,, consiste en una formación he...</td>\n",
       "      <td>4.3925</td>\n",
       "      <td>19.8805</td>\n",
       "    </tr>\n",
       "    <tr>\n",
       "      <th>2</th>\n",
       "      <td>libro_3.pdf</td>\n",
       "      <td>libro_3_sample.txt</td>\n",
       "      <td>23 lante, cuando la leche se cambia por otra a...</td>\n",
       "      <td>— aeJlante, euando la leche se cambia por otra...</td>\n",
       "      <td>7.6879</td>\n",
       "      <td>34.202</td>\n",
       "    </tr>\n",
       "  </tbody>\n",
       "</table>\n",
       "</div>"
      ],
      "text/plain": [
       "  pdf_filename     sample_filename   \n",
       "0  libro_1.pdf  libro_1_sample.txt  \\\n",
       "1  libro_2.pdf  libro_2_sample.txt   \n",
       "2  libro_3.pdf  libro_3_sample.txt   \n",
       "\n",
       "                                       txt_reference   \n",
       "0  do con la importancia de la obra. Al principio...  \\\n",
       "1  a-Fe20 3, consiste en una formación hexagonal ...   \n",
       "2  23 lante, cuando la leche se cambia por otra a...   \n",
       "\n",
       "                                          ocr_output     cer      wer  \n",
       "0  do con la importancia de la obra. Al principio...  3.1521  22.3529  \n",
       "1  FerritasaA—Fe,O,, consiste en una formación he...  4.3925  19.8805  \n",
       "2  — aeJlante, euando la leche se cambia por otra...  7.6879   34.202  "
      ]
     },
     "execution_count": 187,
     "metadata": {},
     "output_type": "execute_result"
    }
   ],
   "source": [
    "df_output"
   ]
  },
  {
   "cell_type": "code",
   "execution_count": null,
   "id": "1e4f6a25-8363-4464-8504-b4a1ea1218ef",
   "metadata": {},
   "outputs": [],
   "source": [
    "#for index, row in df_output.iterrows():\n",
    "#    filename = row['img_filename']\n",
    "#    ref = row['ref_text']\n",
    "#    output = row['ocr_output']\n",
    "#    cer = fastwer.score_sent(output, ref, char_level=True)\n",
    "#    wer = fastwer.score_sent(output, ref, char_level=False)\n",
    "#    df_output.loc[df_output['img_filename'] == filename, 'cer'] = round(cer,2) # Round value to 2 decimal places\n",
    "#    df_output.loc[df_output['img_filename'] == filename, 'wer'] = round(wer,2)\n",
    "\n",
    "#df_output"
   ]
  },
  {
   "cell_type": "code",
   "execution_count": null,
   "id": "c9e24b10-ea51-4fea-9683-11eed3de0459",
   "metadata": {},
   "outputs": [],
   "source": [
    "# Overall performances\n",
    "#mean_cer = df_output['cer'].mean()\n",
    "#mean_wer = df_output['wer'].mean()\n",
    "#print(f'Mean CER = {mean_cer}%, Mean WER = {mean_wer}%')"
   ]
  }
 ],
 "metadata": {
  "kernelspec": {
   "display_name": "Python 3 (ipykernel)",
   "language": "python",
   "name": "python3"
  },
  "language_info": {
   "codemirror_mode": {
    "name": "ipython",
    "version": 3
   },
   "file_extension": ".py",
   "mimetype": "text/x-python",
   "name": "python",
   "nbconvert_exporter": "python",
   "pygments_lexer": "ipython3",
   "version": "3.10.10"
  }
 },
 "nbformat": 4,
 "nbformat_minor": 5
}
